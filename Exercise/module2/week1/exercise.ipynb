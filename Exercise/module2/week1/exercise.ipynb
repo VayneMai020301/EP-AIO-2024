{
 "cells": [
  {
   "cell_type": "code",
   "execution_count": 1,
   "metadata": {},
   "outputs": [],
   "source": [
    "import numpy as np\n",
    "import cv2"
   ]
  },
  {
   "cell_type": "code",
   "execution_count": 3,
   "metadata": {},
   "outputs": [
    {
     "data": {
      "text/plain": [
       "array([0, 1, 2, 3, 4, 5, 6, 7, 8, 9])"
      ]
     },
     "execution_count": 3,
     "metadata": {},
     "output_type": "execute_result"
    }
   ],
   "source": [
    "arr = np.arange(0,10,1)\n",
    "arr"
   ]
  },
  {
   "cell_type": "code",
   "execution_count": 4,
   "metadata": {},
   "outputs": [
    {
     "name": "stdout",
     "output_type": "stream",
     "text": [
      "[[ True  True  True]\n",
      " [ True  True  True]\n",
      " [ True  True  True]]\n"
     ]
    }
   ],
   "source": [
    "print(np.full((3,3), fill_value=True, dtype=bool))"
   ]
  },
  {
   "cell_type": "code",
   "execution_count": 11,
   "metadata": {},
   "outputs": [
    {
     "name": "stdout",
     "output_type": "stream",
     "text": [
      "[False  True False  True False  True False  True False  True]\n"
     ]
    },
    {
     "data": {
      "text/plain": [
       "array([1, 3, 5, 7, 9])"
      ]
     },
     "execution_count": 11,
     "metadata": {},
     "output_type": "execute_result"
    }
   ],
   "source": [
    "arr = np.arange(0,10)\n",
    "print(arr%2 ==1)\n",
    "arr[arr%2 ==1]"
   ]
  },
  {
   "cell_type": "code",
   "execution_count": 12,
   "metadata": {},
   "outputs": [
    {
     "name": "stdout",
     "output_type": "stream",
     "text": [
      "[False  True False  True False  True False  True False  True]\n",
      "[ 0 -1  2 -1  4 -1  6 -1  8 -1]\n"
     ]
    }
   ],
   "source": [
    "arr = np.arange(0,10)\n",
    "print(arr%2 ==1)\n",
    "arr[arr%2 ==1] =-1\n",
    "print(arr)"
   ]
  },
  {
   "cell_type": "markdown",
   "metadata": {},
   "source": [
    "# Exercise 2 (12-14)"
   ]
  },
  {
   "cell_type": "code",
   "execution_count": 2,
   "metadata": {},
   "outputs": [
    {
     "name": "stdout",
     "output_type": "stream",
     "text": [
      "(534, 800, 3)\n"
     ]
    }
   ],
   "source": [
    "import matplotlib.image as mpimg\n",
    "import matplotlib.pyplot as plt\n",
    "img = mpimg.imread (\"dog.jpeg\")      \n",
    "#plt.imshow(img)         \n",
    "\n",
    "print(img.shape)"
   ]
  },
  {
   "cell_type": "code",
   "execution_count": 21,
   "metadata": {},
   "outputs": [],
   "source": [
    "def lightness(img):\n",
    "\n",
    "    channel_r = img[:,:,0]\n",
    "    channel_g = img[:,:,1]\n",
    "    channel_b = img[:,:,2]\n",
    "\n",
    "    gray_value = (np.maximum(channel_r, np.maximum(channel_g, channel_b)) + np.minimum(channel_r, + np.minimum(channel_g, channel_b))) /2\n",
    "    return gray_value\n",
    "\n",
    "def avaerage(img):\n",
    "\n",
    "    channel_r = img[:,:,0]\n",
    "    channel_g = img[:,:,1]\n",
    "    channel_b = img[:,:,2]\n",
    "\n",
    "    gray_value = channel_r /3 + channel_g/3 + channel_b/3\n",
    "    return gray_value\n",
    "\n",
    "def luminority(img):\n",
    "\n",
    "    channel_r = img[:,:,0]\n",
    "    channel_g = img[:,:,1]\n",
    "    channel_b = img[:,:,2]\n",
    "\n",
    "    gray_value = channel_r * 0.21 + channel_g *  0.72 + channel_b* 0.07\n",
    "    return gray_value"
   ]
  },
  {
   "cell_type": "code",
   "execution_count": 7,
   "metadata": {},
   "outputs": [
    {
     "data": {
      "text/plain": [
       "102.5"
      ]
     },
     "execution_count": 7,
     "metadata": {},
     "output_type": "execute_result"
    }
   ],
   "source": [
    "gray = (lightness(img))\n",
    "cv2.imwrite(\"lightness.png\", gray)\n",
    "gray[0,0]"
   ]
  },
  {
   "cell_type": "code",
   "execution_count": 19,
   "metadata": {},
   "outputs": [
    {
     "data": {
      "text/plain": [
       "107.66666666666667"
      ]
     },
     "execution_count": 19,
     "metadata": {},
     "output_type": "execute_result"
    }
   ],
   "source": [
    "gray = (avaerage(img))\n",
    "cv2.imwrite(\"avaerage.png\", gray)\n",
    "gray[0,0]"
   ]
  },
  {
   "cell_type": "code",
   "execution_count": 24,
   "metadata": {},
   "outputs": [
    {
     "data": {
      "text/plain": [
       "126.22999999999999"
      ]
     },
     "execution_count": 24,
     "metadata": {},
     "output_type": "execute_result"
    }
   ],
   "source": [
    "gray = (luminority(img))\n",
    "cv2.imwrite(\"luminority.png\", gray)\n",
    "gray[0,0]"
   ]
  },
  {
   "cell_type": "markdown",
   "metadata": {},
   "source": [
    "# Exercise 3 (15-21)"
   ]
  },
  {
   "cell_type": "code",
   "execution_count": 31,
   "metadata": {},
   "outputs": [
    {
     "name": "stdout",
     "output_type": "stream",
     "text": [
      "      TV  Radio  Newspaper  Sales\n",
      "0  230.1   37.8       69.2   22.1\n",
      "1   44.5   39.3       45.1   10.4\n",
      "2   17.2   45.9       69.3   12.0\n",
      "3  151.5   41.3       58.5   16.5\n",
      "4  180.8   10.8       58.4   17.9\n"
     ]
    }
   ],
   "source": [
    "import pandas as pd\n",
    "df = pd . read_csv ('advertising.csv ')\n",
    "\n",
    "data = df.to_numpy ()\n",
    "print(df.head())"
   ]
  },
  {
   "cell_type": "markdown",
   "metadata": {},
   "source": [
    "#### Câu hỏi 15: Lấy giá trị lớn nhất và chỉ mục tương ứng của nó trên cột Sales:"
   ]
  },
  {
   "cell_type": "code",
   "execution_count": 39,
   "metadata": {},
   "outputs": [
    {
     "name": "stdout",
     "output_type": "stream",
     "text": [
      "27.0\n",
      "175\n"
     ]
    }
   ],
   "source": [
    "max_sales_value = np.max(data[:,3], axis=0)\n",
    "print(max_sales_value)\n",
    "index = np.argmax(data[:,3])\n",
    "print(index)"
   ]
  },
  {
   "cell_type": "markdown",
   "metadata": {},
   "source": [
    "#### Câu hỏi 16: Giá trị trung bình của cột TV là:"
   ]
  },
  {
   "cell_type": "code",
   "execution_count": 42,
   "metadata": {},
   "outputs": [
    {
     "name": "stdout",
     "output_type": "stream",
     "text": [
      "147.0425\n"
     ]
    }
   ],
   "source": [
    "avaerage_tv = np.average(data[:,0], axis=0)\n",
    "print(avaerage_tv)"
   ]
  },
  {
   "cell_type": "markdown",
   "metadata": {},
   "source": [
    "#### Câu hỏi 17: Số lượng bản ghi có giá trị tại cột Sales lớn hơn hoặc bằng 20 là:"
   ]
  },
  {
   "cell_type": "code",
   "execution_count": 46,
   "metadata": {},
   "outputs": [
    {
     "name": "stdout",
     "output_type": "stream",
     "text": [
      "40\n"
     ]
    }
   ],
   "source": [
    "data_sales = data[:,3]\n",
    "#index = np.where((data_sales >= 20))\n",
    "print(np.sum(data_sales >=20))"
   ]
  },
  {
   "cell_type": "markdown",
   "metadata": {},
   "source": [
    "#### Câu hỏi 18: Tính giá trị trung bình của cột Radio thoả mãn điều kiện giá trị tương ứng trên cột Sales lớn hơn hoặc bằng 15:"
   ]
  },
  {
   "cell_type": "code",
   "execution_count": 47,
   "metadata": {},
   "outputs": [
    {
     "name": "stdout",
     "output_type": "stream",
     "text": [
      "26.22293577981651\n"
     ]
    }
   ],
   "source": [
    "data_sales = data[:,3]\n",
    "index = np.where((data_sales >= 15))\n",
    "\n",
    "data_radio_condition  =  data[:,1][index]\n",
    "print(np.average(data_radio_condition))"
   ]
  },
  {
   "cell_type": "markdown",
   "metadata": {},
   "source": [
    "#### Câu hỏi 19: Tính tổng các hàng của cột Sales với điều kiện giá trị Newspaper lớn hơn giá trị trung bình của cột Newspaper:"
   ]
  },
  {
   "cell_type": "code",
   "execution_count": 49,
   "metadata": {},
   "outputs": [
    {
     "name": "stdout",
     "output_type": "stream",
     "text": [
      "1405.1\n"
     ]
    }
   ],
   "source": [
    "average_newspaper = np.mean(data[:,2])\n",
    "index = np.where((data[:,2] > average_newspaper))\n",
    "\n",
    "sum_sales_condition = np.sum(data[:,3][index])\n",
    "print(sum_sales_condition)"
   ]
  },
  {
   "cell_type": "markdown",
   "metadata": {},
   "source": [
    "#### Câu hỏi 20: Gọi giá trị trung bình của cột Sales là A. Tạo ra mảng mới scores chứa các giá trị Good, Average và Bad sao cho: nếu giá trị hiện tại > A => giá trị trong mảng mới là Good, < A thì sẽ là Bad và = A sẽ là Average. Sau đó in ra kết quả scores[7:10]"
   ]
  },
  {
   "cell_type": "code",
   "execution_count": 121,
   "metadata": {},
   "outputs": [
    {
     "data": {
      "text/plain": [
       "15.130500000000001"
      ]
     },
     "execution_count": 121,
     "metadata": {},
     "output_type": "execute_result"
    }
   ],
   "source": [
    "len(data)\n",
    "average_sale = np.mean(data[:,3])\n",
    "average_sale"
   ]
  },
  {
   "cell_type": "code",
   "execution_count": 112,
   "metadata": {},
   "outputs": [
    {
     "name": "stdout",
     "output_type": "stream",
     "text": [
      "(200,)\n"
     ]
    },
    {
     "data": {
      "text/plain": [
       "array([['Good'],\n",
       "       ['Good'],\n",
       "       ['Good']], dtype='<U10')"
      ]
     },
     "execution_count": 112,
     "metadata": {},
     "output_type": "execute_result"
    }
   ],
   "source": [
    "average_sale = np.mean(data[:,3])\n",
    "\n",
    "index = np.where((data[:,3] > average_sale))\n",
    "\n",
    "reflection = np.zeros((200,1), dtype='U10')\n",
    "print(data[:,3].shape)\n",
    "reflection[np.where(data[:,3] > average_sale)] = \"Good\"\n",
    "reflection[np.where(data[:,3] > average_sale)][7:10]"
   ]
  },
  {
   "cell_type": "code",
   "execution_count": 110,
   "metadata": {},
   "outputs": [
    {
     "name": "stdout",
     "output_type": "stream",
     "text": [
      "[['Bad']\n",
      " ['Bad']\n",
      " ['Good']]\n"
     ]
    }
   ],
   "source": [
    "reflection[np.where(data[:,3] > average_sale)] = \"Good\"\n",
    "reflection[np.where(data[:,3] == average_sale)] = \"Average\"\n",
    "reflection[np.where(data[:,3] < average_sale)] = \"Bad\"\n",
    "\n",
    "print(reflection[7:10])"
   ]
  },
  {
   "cell_type": "markdown",
   "metadata": {},
   "source": [
    "#### Câu hỏi 21: Gọi giá trị trên cột Sales gần nhất với giá trị trung bình cũng chính cột Sales là A. Tạo ra mảng mới scores chứa các giá trị Good, Average và Bad sao cho: nếu giá trị hiện tại > A => giá trị trong mảng mới là Good, < A thì sẽ là Bad và = A sẽ là Average. Sau đó in ra kết quả scores[7:10]"
   ]
  },
  {
   "cell_type": "code",
   "execution_count": 130,
   "metadata": {},
   "outputs": [
    {
     "name": "stdout",
     "output_type": "stream",
     "text": [
      "mean: 15.130500000000001\n",
      "[11.7  1.6  4.5  1.4 10.7  4.6  1.4  8.4 10.8  3.   4.8  8.2  4.5  5.3\n",
      "  3.4  9.9 11.9 13.1  3.3  3.4  0.5 11.9 14.9 10.8  7.3  2.   5.9  2.\n",
      "  8.4 10.9  9.5  1.3  4.2  5.5  5.9  7.6 10.7  4.6 11.4  4.9  0.5  3.6\n",
      "  2.8  9.4  7.6  5.5 12.6  3.4 10.1  6.7  5.7 11.9  1.4  1.   3.5 18.2\n",
      "  7.7 10.6  5.4 10.3 16.1  3.5  6.7  2.   4.7  0.3  2.4  5.5  3.4  4.\n",
      "  5.9  3.6  2.2  6.   8.3  1.8  7.3  8.9  5.7  0.8  5.5  6.   2.3  8.1\n",
      "  1.5  8.2  4.   3.1  3.8  2.7  6.7 12.1  2.8 10.7  5.4  0.2  3.8  4.9\n",
      "  8.2  0.5  7.1  4.   0.1  1.   5.7  7.8  4.8  6.7 14.5  1.4  3.4  4.7\n",
      "  3.8  6.3  2.   0.4  2.8  6.5  9.3  8.9  8.5  9.6  1.4  4.5  9.1  4.\n",
      "  5.3 12.8 15.   8.1 16.1 12.  13.9  8.8  0.8  2.1 11.3 11.2 11.1  9.8\n",
      "  8.3  0.9  9.7  1.9  2.   7.9  7.2 14.5  0.8  6.   4.5  5.   0.6  4.6\n",
      " 17.4 12.1  5.2  2.8  5.6  3.5  3.1  6.6  1.9  6.1  5.   8.9  9.2  0.1\n",
      "  2.9 11.6  9.1  9.9  9.1  0.2 10.5  6.8  3.5  0.1  0.8  2.1  1.7  8.5\n",
      " 17.5  8.6  5.  12.3  7.   3.6 14.2  4.1  1.1  6.  13.7  2.3  9.7  6.4\n",
      "  0.8 10.7  7.1]\n",
      "Index Minimum: 167\n",
      "17.2\n"
     ]
    }
   ],
   "source": [
    "mean_sale_value = np.mean(data[:,3])\n",
    "print(f'mean: {mean_sale_value}')\n",
    "distance_to_sales = np.absolute(np.diff(data[:,3] - mean_sale_value))\n",
    "print(distance_to_sales)\n",
    "index_min_distance  = np.argmin(distance_to_sales)\n",
    "print(f'Index Minimum: {index_min_distance}')\n"
   ]
  },
  {
   "cell_type": "code",
   "execution_count": null,
   "metadata": {},
   "outputs": [],
   "source": [
    "value = data[:,3][index_min_distance]\n",
    "\n",
    "print(value)\n",
    "print(f'Value closest sales value')"
   ]
  },
  {
   "cell_type": "code",
   "execution_count": null,
   "metadata": {},
   "outputs": [],
   "source": []
  }
 ],
 "metadata": {
  "kernelspec": {
   "display_name": "aio",
   "language": "python",
   "name": "python3"
  },
  "language_info": {
   "codemirror_mode": {
    "name": "ipython",
    "version": 3
   },
   "file_extension": ".py",
   "mimetype": "text/x-python",
   "name": "python",
   "nbconvert_exporter": "python",
   "pygments_lexer": "ipython3",
   "version": "3.10.0"
  }
 },
 "nbformat": 4,
 "nbformat_minor": 2
}
