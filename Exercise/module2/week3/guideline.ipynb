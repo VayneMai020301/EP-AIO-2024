{
 "cells": [
  {
   "cell_type": "markdown",
   "metadata": {},
   "source": [
    "### Gaussian Distribution"
   ]
  },
  {
   "cell_type": "code",
   "execution_count": 4,
   "metadata": {},
   "outputs": [],
   "source": [
    "import numpy as np \n",
    "import math"
   ]
  },
  {
   "cell_type": "code",
   "execution_count": 5,
   "metadata": {},
   "outputs": [
    {
     "name": "stdout",
     "output_type": "stream",
     "text": [
      "1.5666666666666667\n"
     ]
    }
   ],
   "source": [
    "a = np.array([1.4, 1.0 , 1.3, 1.9, 2.0,1.8])\n",
    "print(np.mean(a))"
   ]
  },
  {
   "cell_type": "code",
   "execution_count": 6,
   "metadata": {},
   "outputs": [
    {
     "name": "stdout",
     "output_type": "stream",
     "text": [
      "0.1288888888888889\n"
     ]
    }
   ],
   "source": [
    "print(a.var())"
   ]
  },
  {
   "cell_type": "code",
   "execution_count": 7,
   "metadata": {},
   "outputs": [
    {
     "name": "stdout",
     "output_type": "stream",
     "text": [
      "3.733333333333333\n",
      "0.1722222222222222\n"
     ]
    }
   ],
   "source": [
    "b = np.array([3.0, 3.8, 4.1, 3.9, 4.2, 3.4])\n",
    "print(np.mean(b))\n",
    "print(b.var())"
   ]
  },
  {
   "cell_type": "code",
   "execution_count": 8,
   "metadata": {},
   "outputs": [],
   "source": [
    "def gaussian(x, mean, variance):\n",
    "    \"\"\"\n",
    "        Tính hàm Gaussian cho giá trị x với mean và variance đã cho.\n",
    "        \n",
    "        :param x: Giá trị đầu vào\n",
    "        :param mean: Giá trị trung bình (mean)\n",
    "        :param variance: Phương sai (variance)\n",
    "        :return: Giá trị hàm Gaussian tại x\n",
    "    \"\"\"\n",
    "    coefficient = 1 / np.sqrt(2 * np.pi * variance)\n",
    "    exponent = np.exp(-((x - mean) ** 2) / (2 * variance))\n",
    "    return coefficient * exponent"
   ]
  },
  {
   "cell_type": "code",
   "execution_count": 9,
   "metadata": {},
   "outputs": [
    {
     "name": "stdout",
     "output_type": "stream",
     "text": [
      "1.2080820590230545e-06\n"
     ]
    }
   ],
   "source": [
    "g1 = gaussian(3.4, float(np.mean(a)),float(np.var(a))) * 0.5\n",
    "print(g1)"
   ]
  },
  {
   "cell_type": "code",
   "execution_count": 10,
   "metadata": {},
   "outputs": [
    {
     "name": "stdout",
     "output_type": "stream",
     "text": [
      "0.34812922367906424\n"
     ]
    }
   ],
   "source": [
    "g2  = gaussian(3.4, float(np.mean(b)),float(np.var(b))) * 0.5\n",
    "print(g2)"
   ]
  },
  {
   "cell_type": "code",
   "execution_count": 11,
   "metadata": {},
   "outputs": [
    {
     "name": "stdout",
     "output_type": "stream",
     "text": [
      "3.4701995252515143e-06\n"
     ]
    }
   ],
   "source": [
    "print(g1 / (g1+g2))"
   ]
  },
  {
   "cell_type": "code",
   "execution_count": 12,
   "metadata": {},
   "outputs": [
    {
     "name": "stdout",
     "output_type": "stream",
     "text": [
      "0.9999965298004748\n"
     ]
    }
   ],
   "source": [
    "print(g2 / (g1+g2))"
   ]
  },
  {
   "cell_type": "markdown",
   "metadata": {},
   "source": [
    "### Create dataset"
   ]
  },
  {
   "cell_type": "code",
   "execution_count": 21,
   "metadata": {},
   "outputs": [
    {
     "name": "stdout",
     "output_type": "stream",
     "text": [
      "[['Sunny' 'Hot' 'High' 'Weak' 'no']\n",
      " ['Sunny' 'Hot' 'High' 'Strong' 'no']\n",
      " ['Overcast' 'Hot' 'High' 'Weak' 'yes']\n",
      " ['Rain' 'Mild' 'High' 'Weak' 'yes']\n",
      " ['Rain' 'Cool' 'Normal' 'Weak' 'yes']\n",
      " ['Rain' 'Cool' 'Normal' 'Strong' 'no']\n",
      " ['Overcast' 'Cool' 'Normal' 'Strong' 'yes']\n",
      " ['Overcast' 'Mild' 'High' 'Weak' 'no']\n",
      " ['Sunny' 'Cool' 'Normal' 'Weak' 'yes']\n",
      " ['Rain' 'Mild' 'Normal' 'Weak' 'yes']]\n"
     ]
    }
   ],
   "source": [
    "import numpy as np\n",
    "data = [['Sunny', 'Hot', 'High', 'Weak', 'no'],\n",
    "            ['Sunny', 'Hot', 'High', 'Strong', 'no'],\n",
    "            ['Overcast', 'Hot', 'High', 'Weak', 'yes'],\n",
    "            ['Rain', 'Mild', 'High', 'Weak', 'yes'],\n",
    "            ['Rain', 'Cool', 'Normal', 'Weak', 'yes'],\n",
    "            ['Rain', 'Cool', 'Normal', 'Strong', 'no'],\n",
    "            ['Overcast', 'Cool', 'Normal', 'Strong', 'yes'],\n",
    "            ['Overcast', 'Mild', 'High', 'Weak', 'no'],\n",
    "            ['Sunny', 'Cool', 'Normal', 'Weak', 'yes'],\n",
    "            ['Rain', 'Mild', 'Normal', 'Weak', 'yes']]\n",
    "\n",
    "data = np.array(data)\n",
    "print(data)"
   ]
  },
  {
   "cell_type": "code",
   "execution_count": 14,
   "metadata": {},
   "outputs": [
    {
     "name": "stdout",
     "output_type": "stream",
     "text": [
      "6\n"
     ]
    }
   ],
   "source": [
    "yes = np.where(data[:, 4]=='yes')\n",
    "num_yes = data[yes].shape[0]\n",
    "print(num_yes)\n",
    "sunny= np.where(data[:, 0]==\"Sunny\")"
   ]
  },
  {
   "cell_type": "code",
   "execution_count": 15,
   "metadata": {},
   "outputs": [
    {
     "name": "stdout",
     "output_type": "stream",
     "text": [
      "[['Overcast' 'Hot' 'High' 'Weak' 'yes']\n",
      " ['Rain' 'Mild' 'High' 'Weak' 'yes']\n",
      " ['Rain' 'Cool' 'Normal' 'Weak' 'yes']\n",
      " ['Overcast' 'Cool' 'Normal' 'Strong' 'yes']\n",
      " ['Sunny' 'Cool' 'Normal' 'Weak' 'yes']\n",
      " ['Rain' 'Mild' 'Normal' 'Weak' 'yes']]\n",
      "[['Sunny' 'Hot' 'High' 'Weak' 'no']\n",
      " ['Sunny' 'Hot' 'High' 'Strong' 'no']\n",
      " ['Sunny' 'Cool' 'Normal' 'Weak' 'yes']]\n"
     ]
    }
   ],
   "source": [
    "print(data[yes]); print(data[sunny])"
   ]
  },
  {
   "cell_type": "code",
   "execution_count": 16,
   "metadata": {},
   "outputs": [
    {
     "name": "stdout",
     "output_type": "stream",
     "text": [
      "1\n"
     ]
    }
   ],
   "source": [
    "sunny = np.where(data[:, :]=='Sunny')\n",
    "print(sunny[0][1])"
   ]
  },
  {
   "cell_type": "markdown",
   "metadata": {},
   "source": [
    "### Compute Prior Probability \n",
    "\n",
    "* Find probability yes in data set\n",
    "* Find probility no in data set"
   ]
  },
  {
   "cell_type": "code",
   "execution_count": 39,
   "metadata": {},
   "outputs": [],
   "source": [
    "def compute_prior_probability(data : np.array) -> tuple: \n",
    "\n",
    "    \"\"\"\n",
    "        This function compute prior probability (Tính xác suất tiên nghiệm)\n",
    "    \"\"\"\n",
    "    categorical = data[: , -1]\n",
    "\n",
    "    num_yes = np.sum(categorical=='yes')\n",
    "    num_no  = np.sum(categorical=='no')\n",
    "\n",
    "    prior_probablity_yes = num_yes / (num_yes  +num_no )\n",
    "    prior_probablity_no = num_no / (num_yes  +num_no )\n",
    "\n",
    "    return (prior_probablity_no, prior_probablity_yes)"
   ]
  },
  {
   "cell_type": "code",
   "execution_count": 41,
   "metadata": {},
   "outputs": [
    {
     "name": "stdout",
     "output_type": "stream",
     "text": [
      "(0.4, 0.6)\n"
     ]
    }
   ],
   "source": [
    "prior_probability = compute_prior_probability(data=data)\n",
    "print(prior_probability)"
   ]
  },
  {
   "cell_type": "code",
   "execution_count": 43,
   "metadata": {},
   "outputs": [
    {
     "name": "stdout",
     "output_type": "stream",
     "text": [
      "prior probablity no: 0.4\n",
      "prior probablity yes: 0.6\n"
     ]
    }
   ],
   "source": [
    "print(f'prior probablity no: {compute_prior_probability(data)[0]}')\n",
    "print(f'prior probablity yes: {compute_prior_probability(data)[1]}')"
   ]
  },
  {
   "cell_type": "markdown",
   "metadata": {},
   "source": [
    "### Compute Likelihood"
   ]
  },
  {
   "cell_type": "markdown",
   "metadata": {},
   "source": [
    "#### Compute Conditional Probability\n",
    "\n",
    "* Calculate $$P(X_{x_1, x_2, ...,x_n}|class = c)$$"
   ]
  },
  {
   "cell_type": "code",
   "execution_count": 18,
   "metadata": {},
   "outputs": [],
   "source": [
    "def statistic (train_data, column = 0, feature = 'Sunny', conditional = 'yes'):\n",
    "    num_conditional = np.sum(train_data[:, 4] == conditional)\n",
    "    num_feature_given_conditional = np.sum(train_data[train_data[:,4]==conditional][:, column] == feature)\n",
    "\n",
    "    return num_feature_given_conditional / num_conditional"
   ]
  },
  {
   "cell_type": "code",
   "execution_count": 23,
   "metadata": {},
   "outputs": [],
   "source": [
    "def compute_conditional_probability(train_data) -> tuple:\n",
    "    \"\"\"\n",
    "        Return \n",
    "    \"\"\"\n",
    "\n",
    "    conditional_probability = np.zeros((4,), dtype=object)\n",
    "    list_x_name = []\n",
    "    for i in range(0, train_data.shape[1]-1):\n",
    "        x_unique = np.unique(train_data[:, i])\n",
    "        list_x_name.append(x_unique)\n",
    "\n",
    "    outlook_index = 0\n",
    "    temperature_index = 1\n",
    "    humidity_index = 2\n",
    "    wind_index = 3\n",
    "\n",
    "    p_outlook = np.zeros((2, len(list_x_name[outlook_index])), dtype=float)\n",
    "    p_temperature = np.zeros((2, len(list_x_name[temperature_index])), dtype=float)\n",
    "    p_humidity = np.zeros((2, len(list_x_name[humidity_index])), dtype=float)\n",
    "    p_wind = np.zeros((2, len(list_x_name[wind_index])), dtype=float)\n",
    "\n",
    "    for i in range(len(list_x_name[outlook_index])):\n",
    "        p_outlook[1, i] = statistic(train_data, outlook_index, list_x_name[outlook_index][i],conditional='yes')\n",
    "        p_outlook[0, i] = statistic(train_data, outlook_index, list_x_name[outlook_index][i],conditional='no')\n",
    "\n",
    "    for i in range(len(list_x_name[temperature_index])):\n",
    "        p_temperature[1, i] = statistic(train_data, temperature_index, list_x_name[temperature_index][i],conditional='yes')\n",
    "        p_temperature[0, i] = statistic(train_data, temperature_index, list_x_name[temperature_index][i],conditional='no')\n",
    "\n",
    "    for i in range(len(list_x_name[humidity_index])):\n",
    "        p_humidity[1, i] = statistic(train_data, humidity_index, list_x_name[humidity_index][i],conditional='yes')\n",
    "        p_humidity[0, i] = statistic(train_data, humidity_index, list_x_name[humidity_index][i],conditional='no')\n",
    "    \n",
    "\n",
    "    for i in range(len(list_x_name[wind_index])):\n",
    "        p_wind[1, i] = statistic(train_data, wind_index, list_x_name[wind_index][i],conditional='yes')\n",
    "        p_wind[0, i] = statistic(train_data, wind_index, list_x_name[wind_index][i],conditional='no')\n",
    "\n",
    "    conditional_probability[0]= p_outlook\n",
    "    conditional_probability[1]= p_temperature\n",
    "    conditional_probability[2]= p_humidity\n",
    "    conditional_probability[3]= p_wind\n",
    "\n",
    "    return np.array(conditional_probability), list_x_name"
   ]
  },
  {
   "cell_type": "code",
   "execution_count": 45,
   "metadata": {},
   "outputs": [
    {
     "name": "stdout",
     "output_type": "stream",
     "text": [
      "[array([[0.25      , 0.25      , 0.5       ],\n",
      "        [0.33333333, 0.5       , 0.16666667]])\n",
      " array([[0.25      , 0.5       , 0.25      ],\n",
      "        [0.5       , 0.16666667, 0.33333333]])\n",
      " array([[0.75      , 0.25      ],\n",
      "        [0.33333333, 0.66666667]]) array([[0.5       , 0.5       ],\n",
      "                                          [0.16666667, 0.83333333]])]\n",
      "[array(['Overcast', 'Rain', 'Sunny'], dtype='<U8'), array(['Cool', 'Hot', 'Mild'], dtype='<U8'), array(['High', 'Normal'], dtype='<U8'), array(['Strong', 'Weak'], dtype='<U8')]\n"
     ]
    },
    {
     "data": {
      "text/plain": [
       "(None, None)"
      ]
     },
     "execution_count": 45,
     "metadata": {},
     "output_type": "execute_result"
    }
   ],
   "source": [
    "conditional_probability, list_features = compute_conditional_probability(data)\n",
    "print(conditional_probability), print(list_features)"
   ]
  },
  {
   "cell_type": "markdown",
   "metadata": {},
   "source": [
    "### Add Padding text in array "
   ]
  },
  {
   "cell_type": "code",
   "execution_count": 17,
   "metadata": {},
   "outputs": [
    {
     "name": "stdout",
     "output_type": "stream",
     "text": [
      "[['Overcast' 'Rain' 'Sunny']\n",
      " ['Cool' 'Hot' 'Mild']\n",
      " ['High' 'Normal' ' ']\n",
      " ['Strong' 'Weak' ' ']]\n"
     ]
    }
   ],
   "source": [
    "nested_list = [['Overcast', 'Rain', 'Sunny'], \n",
    "               ['Cool', 'Hot', 'Mild'], \n",
    "               ['High', 'Normal'], \n",
    "               ['Strong', 'Weak']]\n",
    "\n",
    "max_length = max(len(sublist) for sublist in nested_list)\n",
    "\n",
    "padded_list = [sublist + [' '] * (max_length - len(sublist)) for sublist in nested_list]\n",
    "\n",
    "numpy_array = np.array(padded_list, dtype='<U8')\n",
    "\n",
    "# In ra mảng numpy\n",
    "print(numpy_array)"
   ]
  },
  {
   "cell_type": "markdown",
   "metadata": {},
   "source": [
    "### Get index from value "
   ]
  },
  {
   "cell_type": "code",
   "execution_count": 30,
   "metadata": {},
   "outputs": [],
   "source": [
    "def get_index_from_value (list_features : list[np.array], \n",
    "                          feature_name :str ) :\n",
    "    \n",
    "    return np.nonzero(list_features == feature_name)[0][0] if len(np.nonzero(list_features == feature_name)[0]) >=1 else -1"
   ]
  },
  {
   "cell_type": "code",
   "execution_count": 46,
   "metadata": {},
   "outputs": [
    {
     "name": "stdout",
     "output_type": "stream",
     "text": [
      "Index of Sunny: 2\n"
     ]
    }
   ],
   "source": [
    "feature = 'Sunny'\n",
    "print(f'Index of {feature}: {get_index_from_value(list_features[0], feature)}')"
   ]
  },
  {
   "cell_type": "markdown",
   "metadata": {},
   "source": [
    "### Prediction "
   ]
  },
  {
   "cell_type": "code",
   "execution_count": 49,
   "metadata": {},
   "outputs": [],
   "source": [
    "\n",
    "def prediction_play_tennis (list_x_name , prior_probability , conditional_probability ,x = [\"Sunny\",\"Cool\",\"High\",\"Strong\"]):\n",
    "\n",
    "    x1 = get_index_from_value (x [0] , list_x_name [0])\n",
    "    x2 = get_index_from_value (x [1] , list_x_name [1])\n",
    "    x3 = get_index_from_value (x [2] , list_x_name [2])\n",
    "    x4 = get_index_from_value (x [3] , list_x_name [3])\n",
    "\n",
    "    p0 = prior_probability[0]* conditional_probability[0][0,x1] * conditional_probability[1][0,x2]* conditional_probability[2][0,x3] * conditional_probability[3][0,x4]\n",
    "    print(f'Probability play tennis = no  when event X hapened: {p0}')\n",
    "\n",
    "    p1= prior_probability[1]* conditional_probability[0][1,x1] * conditional_probability[1][1,x2]* conditional_probability[2][1,x3] * conditional_probability[3][1,x4]\n",
    "    print(f'Probability play tennis = yes when event X hapened: {p1}')\n",
    "\n",
    "    if p0 > p1 :\n",
    "        y_pred =0\n",
    "    else :\n",
    "        y_pred =1\n",
    "\n",
    "    return y_pred"
   ]
  },
  {
   "cell_type": "code",
   "execution_count": 50,
   "metadata": {},
   "outputs": [
    {
     "name": "stdout",
     "output_type": "stream",
     "text": [
      "Probability play tennis = no  when event X hapened: 0.018750000000000003\n",
      "Probability play tennis = yes when event X hapened: 0.002777777777777777\n",
      "Class:0( Play Tennis = No) | 1(Play tennis  = Yes): 0\n"
     ]
    }
   ],
   "source": [
    "probability_play_tennis  = prediction_play_tennis(list_features, prior_probability,  conditional_probability)\n",
    "print(f'Class:0( Play Tennis = No) | 1(Play tennis  = Yes): {probability_play_tennis}')  "
   ]
  }
 ],
 "metadata": {
  "kernelspec": {
   "display_name": "aio",
   "language": "python",
   "name": "python3"
  },
  "language_info": {
   "codemirror_mode": {
    "name": "ipython",
    "version": 3
   },
   "file_extension": ".py",
   "mimetype": "text/x-python",
   "name": "python",
   "nbconvert_exporter": "python",
   "pygments_lexer": "ipython3",
   "version": "3.10.0"
  }
 },
 "nbformat": 4,
 "nbformat_minor": 2
}
