{
 "cells": [
  {
   "cell_type": "code",
   "execution_count": 119,
   "metadata": {},
   "outputs": [
    {
     "name": "stdout",
     "output_type": "stream",
     "text": [
      "một trận đấu bóng đá thông thường có hai hiệp , mỗi hiệp 45 phút với khoảng thời gian 15 phút nghỉ giữa hai hiệp .\n",
      "<class 'list'>\n"
     ]
    }
   ],
   "source": [
    "import pandas as pd\n",
    "import numpy as np\n",
    "from sklearn.metrics .pairwise import cosine_similarity\n",
    "from sklearn.feature_extraction.text import TfidfVectorizer\n",
    "\n",
    "vi_data_df = pd.read_csv (\"vi_text_retrieval.csv\")\n",
    "context = vi_data_df [\"text\"]\n",
    "context = [ doc . lower () for doc in context ]\n",
    "print(context[1])\n",
    "print(type(context))"
   ]
  },
  {
   "cell_type": "code",
   "execution_count": 120,
   "metadata": {},
   "outputs": [
    {
     "data": {
      "text/plain": [
       "array([0.31126581, 0.        , 0.        , ..., 0.        , 0.        ,\n",
       "       0.        ])"
      ]
     },
     "execution_count": 120,
     "metadata": {},
     "output_type": "execute_result"
    }
   ],
   "source": [
    "tfidf_vectorizer = TfidfVectorizer ()\n",
    "context_embedded = tfidf_vectorizer.fit_transform(context)\n",
    "context_embedded.toarray()[7]"
   ]
  },
  {
   "cell_type": "code",
   "execution_count": 121,
   "metadata": {},
   "outputs": [
    {
     "name": "stdout",
     "output_type": "stream",
     "text": [
      "(500, 2913)\n"
     ]
    }
   ],
   "source": [
    "context_embedded = context_embedded.toarray()\n",
    "print(context_embedded.shape)"
   ]
  },
  {
   "cell_type": "code",
   "execution_count": 122,
   "metadata": {},
   "outputs": [
    {
     "name": "stdout",
     "output_type": "stream",
     "text": [
      "(2913,)\n"
     ]
    }
   ],
   "source": [
    "question = \"Quang Hải giành được chức vô địch U21 quốc gia năm bao nhiêu tuổi\"\n",
    "queery = [doc.lower() for doc in [question]]\n",
    "querry_embedded = tfidf_vectorizer.transform(queery)\n",
    "\n",
    "querry_embedded = querry_embedded.toarray().reshape(-1)\n",
    "print(querry_embedded.shape)"
   ]
  },
  {
   "cell_type": "code",
   "execution_count": 123,
   "metadata": {},
   "outputs": [
    {
     "name": "stdout",
     "output_type": "stream",
     "text": [
      "0.6279910475266973\n",
      "(500,)\n",
      "1.0\n",
      "1.0\n"
     ]
    }
   ],
   "source": [
    "dot = np.dot(context_embedded,querry_embedded)\n",
    "#print(dot.argsort())\n",
    "print(dot[0])\n",
    "\n",
    "print(dot.shape)\n",
    "\n",
    "# print(dot[7])\n",
    "# print(dot)\n",
    "print(np.linalg.norm(querry_embedded))\n",
    "print(np.linalg.norm(context_embedded[0]))"
   ]
  },
  {
   "cell_type": "markdown",
   "metadata": {},
   "source": [
    "## Cau 11"
   ]
  },
  {
   "cell_type": "code",
   "execution_count": 144,
   "metadata": {},
   "outputs": [
    {
     "name": "stdout",
     "output_type": "stream",
     "text": [
      "(2913,)\n",
      "(1, 2913)\n",
      "0.03526487323867346\n"
     ]
    }
   ],
   "source": [
    "def cosine(query_embedded, database_embeded):\n",
    "    numurator = np.dot(database_embeded,query_embedded)\n",
    "    return cosine_similarity(query_embedded.reshape(1,-1), database_embeded)\n",
    "\n",
    "# lowercasing before encoding\n",
    "query_embedded = [doc.lower() for doc in [question]]\n",
    "query_embedded = tfidf_vectorizer.transform(query_embedded)\n",
    "query_embeded = query_embedded.toarray().reshape(-1)\n",
    "print(query_embeded.shape)\n",
    "print(query_embedded.reshape(1,-1).shape)\n",
    "cosine_scores = cosine(query_embeded,context_embedded)\n",
    "\n",
    "# print(cosine_scores)\n",
    "print(cosine_scores[0][7])"
   ]
  },
  {
   "cell_type": "code",
   "execution_count": 147,
   "metadata": {},
   "outputs": [],
   "source": [
    "def tfidf_search (question , tfidf_vectorizer : TfidfVectorizer,context_embedded, top_d =5) :\n",
    "    # lowercasing before encoding\n",
    "    query_embedded = [doc.lower() for doc in [question]]\n",
    "    query_embedded = tfidf_vectorizer.transform(query_embedded)\n",
    "    query_embeded = query_embedded.toarray().reshape(-1)\n",
    "    cosine_scores = cosine(query_embeded,context_embedded)[0]\n",
    "\n",
    "    # Get top k cosine score and index its\n",
    "    results = []\n",
    "    for idx in cosine_scores.argsort()[-top_d:][:: -1]:\n",
    "        doc_score = {\n",
    "            \"id\": idx ,\n",
    "            \"cosine_score\": cosine_scores[idx], \n",
    "            \"sentence\" :context[idx]\n",
    "        }\n",
    "        results.append(doc_score )\n",
    "    return results"
   ]
  },
  {
   "cell_type": "code",
   "execution_count": 148,
   "metadata": {},
   "outputs": [
    {
     "name": "stdout",
     "output_type": "stream",
     "text": [
      "Quang Hải giành được chức vô địch U21 quốc gia năm bao nhiêu tuổi\n"
     ]
    },
    {
     "data": {
      "text/plain": [
       "0.6279910475266974"
      ]
     },
     "execution_count": 148,
     "metadata": {},
     "output_type": "execute_result"
    }
   ],
   "source": [
    "question = vi_data_df.iloc[0][\"question\"]\n",
    "print(question)\n",
    "results = tfidf_search (question, tfidf_vectorizer, context_embedded ,top_d =5)\n",
    "results[0][\"cosine_score\"]"
   ]
  },
  {
   "cell_type": "markdown",
   "metadata": {},
   "source": [
    "## Cau 12"
   ]
  },
  {
   "cell_type": "code",
   "execution_count": 174,
   "metadata": {},
   "outputs": [
    {
     "name": "stdout",
     "output_type": "stream",
     "text": [
      "(2913,)\n",
      "(500, 2913)\n",
      "(500,)\n"
     ]
    }
   ],
   "source": [
    "def corrcoef(query_embedded, database_embeded):\n",
    "    return np.corrcoef(query_embedded.reshape(1,-1), database_embeded)\n",
    "\n",
    "def calculate_correlations_broadcast(vector, matrix):\n",
    "    # Step 1: Center the vector and each row of the matrix by subtracting their means\n",
    "    vector_mean = np.mean(vector)\n",
    "    matrix_mean = np.mean(matrix, axis=1)\n",
    "    \n",
    "    vector_centered = vector - vector_mean\n",
    "    matrix_centered = matrix - matrix_mean[:, None]\n",
    "    \n",
    "    # Step 2: Compute the dot product of the centered vector and each row of the centered matrix\n",
    "    dot_products = np.dot(matrix_centered, vector_centered)\n",
    "    \n",
    "    # Step 3: Compute the norms of the centered vector and each row of the centered matrix\n",
    "    vector_norm = np.linalg.norm(vector_centered)\n",
    "    matrix_norms = np.linalg.norm(matrix_centered, axis=1)\n",
    "    \n",
    "    # Step 4: Divide the dot products by the product of the norms to get the correlation coefficients\n",
    "    correlation_coefficients = dot_products / (vector_norm * matrix_norms)\n",
    "    \n",
    "    return correlation_coefficients\n",
    "\n",
    "query_embedded = [doc.lower() for doc in [question]]\n",
    "query_embedded = tfidf_vectorizer.transform(query_embedded)\n",
    "query_embeded = query_embedded.toarray().reshape(-1)\n",
    "\n",
    "print(query_embeded.shape)\n",
    "print(context_embedded.shape)\n",
    "corrcoef_scores = corrcoef(query_embeded,context_embedded)\n",
    "print(corrcoef_scores[0][1:].shape)"
   ]
  },
  {
   "cell_type": "code",
   "execution_count": 187,
   "metadata": {},
   "outputs": [
    {
     "name": "stdout",
     "output_type": "stream",
     "text": [
      "(2913,)\n",
      "(500, 2913)\n",
      "[-8.66079674e-03 -8.37829984e-03 -8.37829984e-03 -8.28306960e-03\n",
      " -8.14297643e-03 -8.03188324e-03 -7.66131275e-03 -7.64380001e-03\n",
      " -7.59848455e-03 -7.59848455e-03 -7.58105790e-03 -7.58105790e-03\n",
      " -7.56425037e-03 -7.55679466e-03 -7.34904651e-03 -7.33074485e-03\n",
      " -7.18442338e-03 -7.14970921e-03 -7.12948367e-03 -7.09342762e-03\n",
      " -6.96981610e-03 -6.96933712e-03 -6.95020428e-03 -6.95020428e-03\n",
      " -6.94880414e-03 -6.94467422e-03 -6.93753510e-03 -6.93753510e-03\n",
      " -6.92872330e-03 -6.92621421e-03 -6.86004894e-03 -6.81527713e-03\n",
      " -6.80236028e-03 -6.79990774e-03 -6.78129307e-03 -6.77786306e-03\n",
      " -6.71957676e-03 -6.70959558e-03 -6.70566986e-03 -6.69017813e-03\n",
      " -6.63805639e-03 -6.60862822e-03 -6.56930604e-03 -6.56375562e-03\n",
      " -6.56375562e-03 -6.54395342e-03 -6.40730772e-03 -6.37313167e-03\n",
      " -6.20928443e-03 -6.13087110e-03 -6.13087110e-03 -6.07526195e-03\n",
      " -6.06097349e-03 -6.03316833e-03 -5.97141341e-03 -5.97141341e-03\n",
      " -5.95736121e-03 -5.92842003e-03 -5.86049387e-03 -5.85413562e-03\n",
      " -5.80389614e-03 -5.76566311e-03 -5.71502704e-03 -5.57410527e-03\n",
      " -5.40447223e-03 -5.36092272e-03 -5.33229356e-03 -5.30080570e-03\n",
      " -5.28102924e-03 -5.24674199e-03 -5.24235310e-03 -5.22398379e-03\n",
      " -5.19210887e-03 -5.13306803e-03 -5.10936562e-03 -4.92151584e-03\n",
      " -4.91557479e-03 -4.84118912e-03 -4.78235354e-03 -4.77247139e-03\n",
      " -4.76235908e-03 -4.75045456e-03 -4.73398848e-03 -4.69582312e-03\n",
      " -4.62701910e-03 -4.57002571e-03 -4.47970795e-03 -4.45595669e-03\n",
      " -4.42743388e-03 -4.39256822e-03 -4.18199210e-03 -4.08491982e-03\n",
      " -4.02856587e-03 -3.81975841e-03 -3.66685749e-03 -3.55527295e-03\n",
      " -3.20682685e-03 -3.13500415e-03 -3.13500415e-03 -3.11573278e-03\n",
      " -2.95491920e-03 -2.80888532e-03 -2.68823105e-03 -2.64480387e-03\n",
      " -2.55278532e-03 -2.55192903e-03 -2.38945855e-03 -2.38251284e-03\n",
      " -2.16372032e-03 -2.16372032e-03 -2.13656571e-03 -2.05910978e-03\n",
      " -2.05696232e-03 -1.69384835e-03 -1.57127952e-03 -1.47186425e-03\n",
      " -9.29617605e-04 -8.18845554e-04 -7.01785349e-04 -6.85131917e-04\n",
      " -6.61662250e-04 -6.04193069e-04 -5.52589279e-04 -5.15351278e-04\n",
      " -5.02292294e-04 -4.38098806e-04 -4.27441884e-04 -3.14306619e-04\n",
      " -2.95543877e-04 -2.95543877e-04 -2.90085536e-04 -2.68960278e-04\n",
      " -2.25828939e-04 -1.27838562e-04 -8.82408963e-05 -8.82408963e-05\n",
      " -8.82408963e-05  6.59531633e-05  1.08716687e-04  2.18967769e-04\n",
      "  2.85643079e-04  3.76661880e-04  5.00535191e-04  5.62620941e-04\n",
      "  5.82321408e-04  6.00702528e-04  6.04535904e-04  8.95303191e-04\n",
      "  1.06255927e-03  1.44065733e-03  1.65390328e-03  1.70033444e-03\n",
      "  1.71952573e-03  1.76601032e-03  1.76601032e-03  1.82471036e-03\n",
      "  1.84110927e-03  1.89471991e-03  1.93218078e-03  2.17906991e-03\n",
      "  2.22804528e-03  2.22804528e-03  2.24454295e-03  2.29942024e-03\n",
      "  2.46785366e-03  2.52777664e-03  2.60280382e-03  2.60414232e-03\n",
      "  2.61548726e-03  2.61884525e-03  2.72696946e-03  2.90006367e-03\n",
      "  2.90006367e-03  3.02981384e-03  3.26015697e-03  3.34963229e-03\n",
      "  3.37008229e-03  3.42994511e-03  3.46175775e-03  3.49369060e-03\n",
      "  3.52907079e-03  3.54532259e-03  3.65548871e-03  3.90422609e-03\n",
      "  3.93963195e-03  4.01683246e-03  4.11826949e-03  4.32306304e-03\n",
      "  4.41621911e-03  4.41621911e-03  4.46501884e-03  4.69387583e-03\n",
      "  4.81111100e-03  4.99964402e-03  5.05762426e-03  5.43209486e-03\n",
      "  5.65285493e-03  5.72968591e-03  5.86233314e-03  5.98177983e-03\n",
      "  6.00650525e-03  6.16680470e-03  6.19655153e-03  6.31948110e-03\n",
      "  6.35597063e-03  6.62517345e-03  6.66544781e-03  6.68279043e-03\n",
      "  6.78044057e-03  6.88325679e-03  6.98223058e-03  7.01435140e-03\n",
      "  7.20023989e-03  7.35763041e-03  7.43361370e-03  7.61473216e-03\n",
      "  7.70766814e-03  7.86191399e-03  7.87215671e-03  7.98948900e-03\n",
      "  7.98948900e-03  7.98948900e-03  8.02630618e-03  8.02681485e-03\n",
      "  8.24305581e-03  8.24448850e-03  8.25729216e-03  8.28699819e-03\n",
      "  8.28699819e-03  8.30519883e-03  8.34606567e-03  8.43961063e-03\n",
      "  8.66061733e-03  8.87629338e-03  8.91251681e-03  8.93607443e-03\n",
      "  8.94827802e-03  8.94827802e-03  8.94827802e-03  8.94827802e-03\n",
      "  9.46093629e-03  9.48900698e-03  9.55758374e-03  9.59530046e-03\n",
      "  9.63663571e-03  9.63663571e-03  9.65090990e-03  9.80381271e-03\n",
      "  9.80381271e-03  9.93976577e-03  1.00817993e-02  1.01917924e-02\n",
      "  1.02189778e-02  1.03960805e-02  1.04758207e-02  1.05475525e-02\n",
      "  1.06107559e-02  1.08580388e-02  1.09792852e-02  1.10823594e-02\n",
      "  1.11676461e-02  1.14409918e-02  1.15823255e-02  1.18849399e-02\n",
      "  1.20361022e-02  1.20434213e-02  1.21087456e-02  1.24426425e-02\n",
      "  1.26122679e-02  1.27004733e-02  1.27004733e-02  1.27158355e-02\n",
      "  1.28242923e-02  1.36181563e-02  1.36568550e-02  1.36572283e-02\n",
      "  1.36613381e-02  1.38329013e-02  1.39242300e-02  1.39242300e-02\n",
      "  1.40262553e-02  1.40262553e-02  1.40262553e-02  1.41142904e-02\n",
      "  1.41313262e-02  1.43068969e-02  1.43068969e-02  1.45167357e-02\n",
      "  1.46290907e-02  1.48054412e-02  1.48054412e-02  1.48835856e-02\n",
      "  1.48835856e-02  1.50732605e-02  1.50950134e-02  1.51798837e-02\n",
      "  1.53363312e-02  1.53404211e-02  1.53404211e-02  1.53912396e-02\n",
      "  1.57668462e-02  1.57668462e-02  1.58030468e-02  1.59137703e-02\n",
      "  1.59956887e-02  1.63197873e-02  1.63676874e-02  1.66519257e-02\n",
      "  1.68248066e-02  1.68777312e-02  1.72435471e-02  1.73048196e-02\n",
      "  1.73048196e-02  1.74389118e-02  1.75459004e-02  1.75578765e-02\n",
      "  1.77612562e-02  1.78225392e-02  1.83182622e-02  1.89759714e-02\n",
      "  1.91938067e-02  1.91938067e-02  1.93388144e-02  1.94180001e-02\n",
      "  1.94662054e-02  1.95633536e-02  1.98663833e-02  1.98957005e-02\n",
      "  1.98957005e-02  2.02309991e-02  2.03628562e-02  2.04275208e-02\n",
      "  2.05426755e-02  2.05608867e-02  2.07199206e-02  2.09897915e-02\n",
      "  2.17030107e-02  2.17250746e-02  2.18739842e-02  2.20466483e-02\n",
      "  2.20754474e-02  2.21218294e-02  2.21907816e-02  2.22206998e-02\n",
      "  2.22206998e-02  2.23906007e-02  2.34188202e-02  2.37416448e-02\n",
      "  2.41165975e-02  2.41372485e-02  2.43183261e-02  2.44995557e-02\n",
      "  2.45300378e-02  2.46177190e-02  2.46402669e-02  2.47222400e-02\n",
      "  2.48360780e-02  2.50465487e-02  2.51910909e-02  2.52581709e-02\n",
      "  2.53048254e-02  2.54606085e-02  2.56118962e-02  2.57933216e-02\n",
      "  2.60053491e-02  2.64108614e-02  2.64496119e-02  2.65856671e-02\n",
      "  2.74160175e-02  2.75497252e-02  2.75497252e-02  2.77932112e-02\n",
      "  2.85151328e-02  2.88641762e-02  2.88783349e-02  2.91200816e-02\n",
      "  2.95142900e-02  2.99683071e-02  2.99683071e-02  2.99683071e-02\n",
      "  2.99683071e-02  3.01943115e-02  3.02992896e-02  3.04273721e-02\n",
      "  3.04914191e-02  3.05871384e-02  3.05973848e-02  3.07000013e-02\n",
      "  3.15933417e-02  3.16278277e-02  3.21502152e-02  3.26193471e-02\n",
      "  3.28498949e-02  3.29317513e-02  3.29317513e-02  3.31047522e-02\n",
      "  3.31555714e-02  3.31555714e-02  3.37057906e-02  3.39486938e-02\n",
      "  3.39609297e-02  3.39609297e-02  3.43049161e-02  3.45913113e-02\n",
      "  3.53580905e-02  3.53580905e-02  3.53735273e-02  3.53795249e-02\n",
      "  3.53910246e-02  3.53910246e-02  3.57985381e-02  3.57985381e-02\n",
      "  3.59442516e-02  3.61305082e-02  3.70117239e-02  3.77221899e-02\n",
      "  3.78333793e-02  3.78408743e-02  3.80759530e-02  3.80759530e-02\n",
      "  3.81821686e-02  3.85995195e-02  3.96674299e-02  3.96703541e-02\n",
      "  4.04186881e-02  4.09513021e-02  4.11264268e-02  4.13416616e-02\n",
      "  4.17231674e-02  4.20591470e-02  4.24833818e-02  4.28157588e-02\n",
      "  4.41398172e-02  4.42785198e-02  4.48301101e-02  4.48707299e-02\n",
      "  4.48895613e-02  4.50817624e-02  4.50817624e-02  4.51938840e-02\n",
      "  4.51938840e-02  4.55262506e-02  4.55262506e-02  4.58730161e-02\n",
      "  4.63889488e-02  4.71963087e-02  4.73703419e-02  4.74628527e-02\n",
      "  4.86766444e-02  4.86766444e-02  4.95461932e-02  4.98621762e-02\n",
      "  4.99085087e-02  4.99370777e-02  4.99824493e-02  5.16931306e-02\n",
      "  5.17129749e-02  5.17905279e-02  5.18457819e-02  5.18457819e-02\n",
      "  5.27211832e-02  5.27211832e-02  5.29855303e-02  5.65185458e-02\n",
      "  5.82298222e-02  5.94706699e-02  6.03735538e-02  6.07630324e-02\n",
      "  6.10933283e-02  6.13129006e-02  6.17417503e-02  6.19692128e-02\n",
      "  6.21273821e-02  6.26970205e-02  6.59486725e-02  6.70548917e-02\n",
      "  6.84775908e-02  6.84775908e-02  6.84775908e-02  7.24147351e-02\n",
      "  7.46570813e-02  7.61893837e-02  7.88029983e-02  7.97044845e-02\n",
      "  8.13691143e-02  8.26862974e-02  8.27100003e-02  8.41371363e-02\n",
      "  8.50851716e-02  8.69954687e-02  8.89458142e-02  9.17184643e-02\n",
      "  1.38988419e-01  1.54445320e-01  1.55203461e-01  1.71246155e-01\n",
      "  2.07342465e-01  6.25959975e-01]\n"
     ]
    }
   ],
   "source": [
    "print(query_embeded.shape)\n",
    "print(context_embedded.shape)\n",
    "a = calculate_correlations_broadcast(query_embeded, context_embedded)\n",
    "print(np.sort(a)[2:])"
   ]
  },
  {
   "cell_type": "code",
   "execution_count": 172,
   "metadata": {},
   "outputs": [],
   "source": [
    "def corr_search ( question , tfidf_vectorizer , context_embedded,top_d =5) :\n",
    "    # lowercasing before encoding\n",
    "    query_embedded = [doc.lower() for doc in [question]]\n",
    "    query_embedded = tfidf_vectorizer.transform(query_embedded)\n",
    "    query_embeded = query_embedded.toarray().reshape(-1)\n",
    "\n",
    "    corr_scores = corrcoef(query_embeded,context_embedded )\n",
    "    corr_scores = corr_scores[0][1:]\n",
    "\n",
    "    results = []\n",
    "    for idx in corr_scores.argsort()[-top_d :][:: -1]:\n",
    "        doc = {\n",
    "        \"id\": idx ,\n",
    "        \"corr_score\": corr_scores[idx]\n",
    "        }\n",
    "    results.append(doc)\n",
    "    return results  "
   ]
  },
  {
   "cell_type": "code",
   "execution_count": 173,
   "metadata": {},
   "outputs": [
    {
     "name": "stdout",
     "output_type": "stream",
     "text": [
      "Quang Hải giành được chức vô địch U21 quốc gia năm bao nhiêu tuổi\n"
     ]
    },
    {
     "data": {
      "text/plain": [
       "0.15444531996663344"
      ]
     },
     "execution_count": 173,
     "metadata": {},
     "output_type": "execute_result"
    }
   ],
   "source": [
    "question = vi_data_df.iloc[0][\"question\"]\n",
    "print(question)\n",
    "results = corr_search(question , tfidf_vectorizer ,context_embedded, top_d =5)\n",
    "results [0][\"corr_score\"]"
   ]
  }
 ],
 "metadata": {
  "kernelspec": {
   "display_name": "aio",
   "language": "python",
   "name": "python3"
  },
  "language_info": {
   "codemirror_mode": {
    "name": "ipython",
    "version": 3
   },
   "file_extension": ".py",
   "mimetype": "text/x-python",
   "name": "python",
   "nbconvert_exporter": "python",
   "pygments_lexer": "ipython3",
   "version": "3.10.0"
  }
 },
 "nbformat": 4,
 "nbformat_minor": 2
}
